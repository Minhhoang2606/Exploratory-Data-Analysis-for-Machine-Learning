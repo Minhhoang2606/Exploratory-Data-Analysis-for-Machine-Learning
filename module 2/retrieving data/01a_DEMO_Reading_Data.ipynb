{
 "cells": [
  {
   "cell_type": "markdown",
   "metadata": {},
   "source": [
    "# Machine Learning Foundation\n",
    "\n",
    "## Section 1, Part a: Reading Data \n"
   ]
  },
  {
   "cell_type": "markdown",
   "metadata": {},
   "source": [
    "### Learning Objective(s)\n",
    "\n",
    " - Create a SQL database connection to a sample SQL database, and read records from that database\n",
    " - Explore common input parameters\n",
    "\n",
    "### Packages\n",
    "\n",
    " - [Pandas](https://pandas.pydata.org/pandas-docs/stable/?utm_medium=Exinfluencer&utm_source=Exinfluencer&utm_content=000026UJ&utm_term=10006555&utm_id=NA-SkillsNetwork-Channel-SkillsNetworkCoursesIBMML0232ENSkillsNetwork837-2023-01-01)\n",
    " - [Pandas.read_sql](https://pandas.pydata.org/pandas-docs/stable/reference/api/pandas.read_sql.html?utm_medium=Exinfluencer&utm_source=Exinfluencer&utm_content=000026UJ&utm_term=10006555&utm_id=NA-SkillsNetwork-Channel-SkillsNetworkCoursesIBMML0232ENSkillsNetwork837-2023-01-01)\n",
    " - [SQLite3](https://docs.python.org/3.6/library/sqlite3.html?utm_medium=Exinfluencer&utm_source=Exinfluencer&utm_content=000026UJ&utm_term=10006555&utm_id=NA-SkillsNetwork-Channel-SkillsNetworkCoursesIBMML0232ENSkillsNetwork837-2023-01-01)\n"
   ]
  },
  {
   "cell_type": "markdown",
   "metadata": {},
   "source": [
    "## Simple data reads\n",
    "\n",
    "Structured Query Language (SQL) is an [ANSI specification](https://docs.oracle.com/database/121/SQLRF/ap_standard_sql001.htm?utm_medium=Exinfluencer&utm_source=Exinfluencer&utm_content=000026UJ&utm_term=10006555&utm_id=NA-SkillsNetwork-Channel-SkillsNetworkCoursesIBMML0232ENSkillsNetwork837-2023-01-01#SQLRF55514), implemented by various databases. SQL is a powerful format for interacting with large databases efficiently, and SQL allows for a consistent experience across a large market of databases. We'll be using sqlite, a lightweight and somewhat restricted version of sql for this example. sqlite uses a slightly modified version of SQL, which may be different than what you're used to. \n"
   ]
  },
  {
   "cell_type": "code",
   "execution_count": 28,
   "metadata": {},
   "outputs": [],
   "source": [
    "# Imports\n",
    "import sqlite3 as sq3\n",
    "import pandas.io.sql as pds\n",
    "import pandas as pd"
   ]
  },
  {
   "cell_type": "markdown",
   "metadata": {},
   "source": [
    "### Database connections\n",
    "\n",
    "Our first step will be to create a connection to our SQL database. A few common SQL databases used with Python include:\n",
    "\n",
    " - Microsoft SQL Server\n",
    " - Postgres\n",
    " - MySQL\n",
    " - AWS Redshift\n",
    " - AWS Aurora\n",
    " - Oracle DB\n",
    " - Terradata\n",
    " - Db2 Family\n",
    " - Many, many others\n",
    " \n",
    "Each of these databases will require a slightly different setup, and may require credentials (username & password), tokens, or other access requirements. We'll be using `sqlite3` to connect to our database, but other connection packages include:\n",
    "\n",
    " - [`SQLAlchemy`](https://www.sqlalchemy.org/?utm_medium=Exinfluencer&utm_source=Exinfluencer&utm_content=000026UJ&utm_term=10006555&utm_id=NA-SkillsNetwork-Channel-SkillsNetworkCoursesIBMML0232ENSkillsNetwork837-2023-01-01) (most common)\n",
    " - [`psycopg2`](http://initd.org/psycopg/?utm_medium=Exinfluencer&utm_source=Exinfluencer&utm_content=000026UJ&utm_term=10006555&utm_id=NA-SkillsNetwork-Channel-SkillsNetworkCoursesIBMML0232ENSkillsNetwork837-2023-01-01)\n",
    " - [`MySQLdb`](http://mysql-python.sourceforge.net/MySQLdb.html?utm_medium=Exinfluencer&utm_source=Exinfluencer&utm_content=000026UJ&utm_term=10006555&utm_id=NA-SkillsNetwork-Channel-SkillsNetworkCoursesIBMML0232ENSkillsNetwork837-2023-01-01)\n"
   ]
  },
  {
   "cell_type": "code",
   "execution_count": 29,
   "metadata": {},
   "outputs": [
    {
     "name": "stderr",
     "output_type": "stream",
     "text": [
      "'wget' is not recognized as an internal or external command,\n",
      "operable program or batch file.\n"
     ]
    }
   ],
   "source": [
    "# Download the database\n",
    "!wget -P data https://cf-courses-data.s3.us.cloud-object-storage.appdomain.cloud/IBM-ML0232EN-SkillsNetwork/asset/classic_rock.db"
   ]
  },
  {
   "cell_type": "code",
   "execution_count": 30,
   "metadata": {},
   "outputs": [
    {
     "name": "stdout",
     "output_type": "stream",
     "text": [
      "Connection established: <sqlite3.Connection object at 0x0000026F6000F100>\n"
     ]
    }
   ],
   "source": [
    "# Define the database path\n",
    "db_path = \"data/classic_rock.db\"\n",
    "\n",
    "# Establish a connection\n",
    "connection = sq3.connect(db_path)\n",
    "print(\"Connection established:\", connection)"
   ]
  },
  {
   "cell_type": "markdown",
   "metadata": {},
   "source": [
    "### Reading data\n",
    "\n",
    "Now that we've got a connection to our database, we can perform queries, and load their results in as Pandas DataFrames\n"
   ]
  },
  {
   "cell_type": "code",
   "execution_count": 31,
   "metadata": {},
   "outputs": [
    {
     "name": "stdout",
     "output_type": "stream",
     "text": [
      "                     Song        Artist  Release_Year  PlayCount\n",
      "0        Caught Up in You   .38 Special        1982.0         82\n",
      "1         Hold On Loosely   .38 Special        1981.0         85\n",
      "2  Rockin' Into the Night   .38 Special        1980.0         18\n",
      "3       Art For Arts Sake          10cc        1975.0          1\n",
      "4              Kryptonite  3 Doors Down        2000.0         13\n"
     ]
    }
   ],
   "source": [
    "# Define the query\n",
    "query = \"SELECT * FROM rock_songs\"\n",
    "\n",
    "# Execute the query and load results into a Pandas DataFrame\n",
    "rock_songs = pd.read_sql(query, connection)\n",
    "\n",
    "# Display the first five rows\n",
    "print(rock_songs.head())"
   ]
  },
  {
   "cell_type": "code",
   "execution_count": 32,
   "metadata": {},
   "outputs": [
    {
     "name": "stdout",
     "output_type": "stream",
     "text": [
      "         Artist  Release_Year\n",
      "0   .38 Special        1982.0\n",
      "1   .38 Special        1981.0\n",
      "2   .38 Special        1980.0\n",
      "3          10cc        1975.0\n",
      "4  3 Doors Down        2000.0\n"
     ]
    }
   ],
   "source": [
    "# Define a query to select specific columns\n",
    "query = \"SELECT artist, release_year FROM rock_songs\"\n",
    "\n",
    "# Execute the query\n",
    "selected_columns = pd.read_sql(query, connection)\n",
    "print(selected_columns.head())"
   ]
  },
  {
   "cell_type": "markdown",
   "metadata": {},
   "source": [
    "### Grouping and Aggregating Data"
   ]
  },
  {
   "cell_type": "code",
   "execution_count": 35,
   "metadata": {},
   "outputs": [
    {
     "name": "stdout",
     "output_type": "stream",
     "text": [
      "         Artist  Release_Year  num_songs  avg_plays\n",
      "0   The Beatles        1967.0         23   6.565217\n",
      "1  Led Zeppelin        1969.0         18  21.000000\n",
      "2   The Beatles        1965.0         15   3.800000\n",
      "3   The Beatles        1968.0         13  13.000000\n",
      "4   The Beatles        1969.0         13  15.000000\n"
     ]
    }
   ],
   "source": [
    "# Define an advanced query\n",
    "query = \"\"\"\n",
    "SELECT\n",
    "    Artist,\n",
    "    Release_Year,\n",
    "    COUNT(*) AS num_songs,\n",
    "    AVG(PlayCount) AS avg_plays\n",
    "FROM\n",
    "    rock_songs\n",
    "GROUP BY\n",
    "    Artist, Release_Year\n",
    "ORDER BY\n",
    "    num_songs DESC\n",
    "\"\"\"\n",
    "\n",
    "# Execute the query\n",
    "grouped_data = pd.read_sql(query, connection)\n",
    "print(grouped_data.head())"
   ]
  },
  {
   "cell_type": "code",
   "execution_count": 37,
   "metadata": {},
   "outputs": [
    {
     "name": "stdout",
     "output_type": "stream",
     "text": [
      "Empty DataFrame\n",
      "Columns: [Song, Artist, Release_Year, PlayCount]\n",
      "Index: []\n"
     ]
    }
   ],
   "source": [
    "# Define a query with a WHERE condition\n",
    "query = \"\"\"\n",
    "SELECT *\n",
    "FROM rock_songs\n",
    "WHERE PlayCount > 1000\n",
    "\"\"\"\n",
    "\n",
    "# Execute the query\n",
    "filtered_songs = pd.read_sql(query, connection)\n",
    "print(filtered_songs.head())"
   ]
  },
  {
   "cell_type": "code",
   "execution_count": 13,
   "metadata": {},
   "outputs": [
    {
     "data": {
      "text/html": [
       "<div>\n",
       "<style scoped>\n",
       "    .dataframe tbody tr th:only-of-type {\n",
       "        vertical-align: middle;\n",
       "    }\n",
       "\n",
       "    .dataframe tbody tr th {\n",
       "        vertical-align: top;\n",
       "    }\n",
       "\n",
       "    .dataframe thead th {\n",
       "        text-align: right;\n",
       "    }\n",
       "</style>\n",
       "<table border=\"1\" class=\"dataframe\">\n",
       "  <thead>\n",
       "    <tr style=\"text-align: right;\">\n",
       "      <th></th>\n",
       "      <th>Song</th>\n",
       "      <th>Artist</th>\n",
       "      <th>Release_Year</th>\n",
       "      <th>PlayCount</th>\n",
       "    </tr>\n",
       "  </thead>\n",
       "  <tbody>\n",
       "    <tr>\n",
       "      <th>0</th>\n",
       "      <td>Caught Up in You</td>\n",
       "      <td>.38 Special</td>\n",
       "      <td>1982.0</td>\n",
       "      <td>82</td>\n",
       "    </tr>\n",
       "    <tr>\n",
       "      <th>1</th>\n",
       "      <td>Hold On Loosely</td>\n",
       "      <td>.38 Special</td>\n",
       "      <td>1981.0</td>\n",
       "      <td>85</td>\n",
       "    </tr>\n",
       "    <tr>\n",
       "      <th>2</th>\n",
       "      <td>Rockin' Into the Night</td>\n",
       "      <td>.38 Special</td>\n",
       "      <td>1980.0</td>\n",
       "      <td>18</td>\n",
       "    </tr>\n",
       "    <tr>\n",
       "      <th>3</th>\n",
       "      <td>Art For Arts Sake</td>\n",
       "      <td>10cc</td>\n",
       "      <td>1975.0</td>\n",
       "      <td>1</td>\n",
       "    </tr>\n",
       "    <tr>\n",
       "      <th>4</th>\n",
       "      <td>Kryptonite</td>\n",
       "      <td>3 Doors Down</td>\n",
       "      <td>2000.0</td>\n",
       "      <td>13</td>\n",
       "    </tr>\n",
       "  </tbody>\n",
       "</table>\n",
       "</div>"
      ],
      "text/plain": [
       "                     Song        Artist  Release_Year  PlayCount\n",
       "0        Caught Up in You   .38 Special        1982.0         82\n",
       "1         Hold On Loosely   .38 Special        1981.0         85\n",
       "2  Rockin' Into the Night   .38 Special        1980.0         18\n",
       "3       Art For Arts Sake          10cc        1975.0          1\n",
       "4              Kryptonite  3 Doors Down        2000.0         13"
      ]
     },
     "execution_count": 13,
     "metadata": {},
     "output_type": "execute_result"
    }
   ],
   "source": [
    "# Write the query\n",
    "query = '''\n",
    "SELECT *\n",
    "FROM rock_songs;\n",
    "'''\n",
    "\n",
    "# Execute the query\n",
    "observations = pds.read_sql(query, con)\n",
    "\n",
    "observations.head()"
   ]
  },
  {
   "cell_type": "markdown",
   "metadata": {},
   "source": [
    "### Combining Aggregation and Sorting"
   ]
  },
  {
   "cell_type": "code",
   "execution_count": 39,
   "metadata": {},
   "outputs": [
    {
     "name": "stdout",
     "output_type": "stream",
     "text": [
      "                          Artist  total_plays\n",
      "0                   Led Zeppelin         1546\n",
      "1                 Rolling Stones         1112\n",
      "2                      Van Halen         1055\n",
      "3                     Pink Floyd         1044\n",
      "4  Tom Petty & The Heartbreakers          916\n"
     ]
    }
   ],
   "source": [
    "# Define a query to find the most popular artists\n",
    "query = \"\"\"\n",
    "SELECT\n",
    "    artist,\n",
    "    SUM(PlayCount) AS total_plays\n",
    "FROM\n",
    "    rock_songs\n",
    "GROUP BY\n",
    "    artist\n",
    "ORDER BY\n",
    "    total_plays DESC\n",
    "\"\"\"\n",
    "\n",
    "# Execute the query\n",
    "popular_artists = pd.read_sql(query, connection)\n",
    "print(popular_artists.head())"
   ]
  },
  {
   "cell_type": "markdown",
   "metadata": {},
   "source": [
    "### Optimizing Data Retrieval with Parameters"
   ]
  },
  {
   "cell_type": "markdown",
   "metadata": {},
   "source": [
    "chunksize: Processing Data in Smaller Batches"
   ]
  },
  {
   "cell_type": "code",
   "execution_count": 40,
   "metadata": {},
   "outputs": [
    {
     "name": "stdout",
     "output_type": "stream",
     "text": [
      "Chunk 1:\n",
      "                      Song        Artist  Release_Year  PlayCount\n",
      "0        Caught Up in You   .38 Special        1982.0         82\n",
      "1         Hold On Loosely   .38 Special        1981.0         85\n",
      "2  Rockin' Into the Night   .38 Special        1980.0         18\n",
      "3       Art For Arts Sake          10cc        1975.0          1\n",
      "4              Kryptonite  3 Doors Down        2000.0         13\n",
      "Chunk 2:\n",
      "             Song         Artist  Release_Year  PlayCount\n",
      "0          Loser   3 Doors Down        2000.0          1\n",
      "1  When I'm Gone   3 Doors Down        2002.0          6\n",
      "2     What's Up?  4 Non Blondes        1992.0          3\n",
      "3     Take On Me           a-ha        1985.0          1\n",
      "4  Back In Black          AC/DC        1980.0         97\n"
     ]
    }
   ],
   "source": [
    "# Define the query\n",
    "query = \"SELECT * FROM rock_songs\"\n",
    "\n",
    "# Retrieve data in chunks of 5 rows\n",
    "chunk_size = 5\n",
    "observation_generator = pd.read_sql(query, connection, chunksize=chunk_size)\n",
    "\n",
    "# Process each chunk\n",
    "for index, chunk in enumerate(observation_generator):\n",
    "    if index < 2:  # Limit to first two chunks for demonstration\n",
    "        print(f\"Chunk {index + 1}:\\n\", chunk)"
   ]
  },
  {
   "cell_type": "markdown",
   "metadata": {},
   "source": [
    "coerce_float: Ensuring Numeric Consistency"
   ]
  },
  {
   "cell_type": "code",
   "execution_count": 42,
   "metadata": {},
   "outputs": [
    {
     "name": "stdout",
     "output_type": "stream",
     "text": [
      "Song             object\n",
      "Artist           object\n",
      "Release_Year    float64\n",
      "PlayCount         int64\n",
      "dtype: object\n"
     ]
    }
   ],
   "source": [
    "# Retrieve data with coercion to float\n",
    "data = pd.read_sql(query, connection, coerce_float=True)\n",
    "print(data.dtypes)"
   ]
  },
  {
   "cell_type": "markdown",
   "metadata": {},
   "source": [
    "parse_dates: Parsing Date Columns"
   ]
  },
  {
   "cell_type": "code",
   "execution_count": 43,
   "metadata": {},
   "outputs": [
    {
     "name": "stdout",
     "output_type": "stream",
     "text": [
      "Song                    object\n",
      "Artist                  object\n",
      "Release_Year    datetime64[ns]\n",
      "dtype: object\n"
     ]
    }
   ],
   "source": [
    "# Parse the 'Release_Year' column as a datetime object\n",
    "query = \"SELECT Song, Artist, Release_Year FROM rock_songs\"\n",
    "data = pd.read_sql(query, connection, parse_dates=[\"Release_Year\"])\n",
    "print(data.dtypes)"
   ]
  },
  {
   "cell_type": "markdown",
   "metadata": {},
   "source": [
    "Combining Parameters for Advanced Optimization"
   ]
  },
  {
   "cell_type": "code",
   "execution_count": 44,
   "metadata": {},
   "outputs": [
    {
     "name": "stdout",
     "output_type": "stream",
     "text": [
      "Optimized Chunk 1:\n",
      "                      Song        Artist        Release_Year  PlayCount\n",
      "0        Caught Up in You   .38 Special 1970-01-01 00:33:02         82\n",
      "1         Hold On Loosely   .38 Special 1970-01-01 00:33:01         85\n",
      "2  Rockin' Into the Night   .38 Special 1970-01-01 00:33:00         18\n",
      "3       Art For Arts Sake          10cc 1970-01-01 00:32:55          1\n",
      "4              Kryptonite  3 Doors Down 1970-01-01 00:33:20         13\n",
      "Optimized Chunk 2:\n",
      "             Song         Artist        Release_Year  PlayCount\n",
      "0          Loser   3 Doors Down 1970-01-01 00:33:20          1\n",
      "1  When I'm Gone   3 Doors Down 1970-01-01 00:33:22          6\n",
      "2     What's Up?  4 Non Blondes 1970-01-01 00:33:12          3\n",
      "3     Take On Me           a-ha 1970-01-01 00:33:05          1\n",
      "4  Back In Black          AC/DC 1970-01-01 00:33:00         97\n"
     ]
    }
   ],
   "source": [
    "# Advanced data retrieval with multiple optimizations\n",
    "query = \"SELECT * FROM rock_songs\"\n",
    "chunk_size = 5\n",
    "optimized_generator = pd.read_sql(\n",
    "    query,\n",
    "    connection,\n",
    "    chunksize=chunk_size,\n",
    "    coerce_float=True,\n",
    "    parse_dates=[\"Release_Year\"]\n",
    ")\n",
    "\n",
    "# Process first few chunks\n",
    "for index, chunk in enumerate(optimized_generator):\n",
    "    if index < 2:\n",
    "        print(f\"Optimized Chunk {index + 1}:\\n\", chunk)"
   ]
  }
 ],
 "metadata": {
  "kernelspec": {
   "display_name": "python_course",
   "language": "python",
   "name": "python3"
  },
  "language_info": {
   "codemirror_mode": {
    "name": "ipython",
    "version": 3
   },
   "file_extension": ".py",
   "mimetype": "text/x-python",
   "name": "python",
   "nbconvert_exporter": "python",
   "pygments_lexer": "ipython3",
   "version": "3.11.9"
  }
 },
 "nbformat": 4,
 "nbformat_minor": 4
}
