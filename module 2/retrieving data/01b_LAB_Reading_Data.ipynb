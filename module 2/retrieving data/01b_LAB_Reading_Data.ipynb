{
 "cells": [
  {
   "cell_type": "code",
   "execution_count": 3,
   "metadata": {},
   "outputs": [],
   "source": [
    "# Imports\n",
    "import sqlite3 as sq3\n",
    "import pandas.io.sql as pds\n",
    "import pandas as pd"
   ]
  },
  {
   "cell_type": "markdown",
   "metadata": {},
   "source": [
    "## Lab Exercise: Reading in database files\n",
    "\n",
    " - Create a variable, `path`, containing the path to the `baseball.db` contained in `resources/`\n",
    " - Create a connection, `con`, that is connected to database at `path`\n",
    " - Create a variable, `query`, containing a SQL query which reads in all data from the `allstarfull` table\n",
    " - Create a variable, `observations`, by using pandas' [read_sql](https://pandas.pydata.org/pandas-docs/stable/reference/api/pandas.read_sql.html?utm_medium=Exinfluencer&utm_source=Exinfluencer&utm_content=000026UJ&utm_term=10006555&utm_id=NA-SkillsNetwork-Channel-SkillsNetworkCoursesIBMML0232ENSkillsNetwork837-2023-01-01)\n",
    "\n",
    "### Optional\n",
    " - Create a variable, `tables`, which reads in all data from the table `sqlite_master`\n",
    " - Pretend that you were interesting in creating a new baseball hall of fame. Join and analyze the tables to evaluate the top 3 all time best baseball players.\n"
   ]
  },
  {
   "cell_type": "code",
   "execution_count": 4,
   "metadata": {},
   "outputs": [
    {
     "name": "stderr",
     "output_type": "stream",
     "text": [
      "'wget' is not recognized as an internal or external command,\n",
      "operable program or batch file.\n"
     ]
    }
   ],
   "source": [
    "# Download the database\n",
    "!wget -P data https://cf-courses-data.s3.us.cloud-object-storage.appdomain.cloud/IBM-ML0232EN-SkillsNetwork/asset/baseball.db"
   ]
  },
  {
   "cell_type": "markdown",
   "metadata": {},
   "source": [
    "### Exploring the Database Structure"
   ]
  },
  {
   "cell_type": "code",
   "execution_count": 5,
   "metadata": {},
   "outputs": [
    {
     "name": "stdout",
     "output_type": "stream",
     "text": [
      "Tables in baseball.db:\n",
      "           name\n",
      "0  allstarfull\n",
      "1      schools\n",
      "2      batting\n"
     ]
    }
   ],
   "source": [
    "# Create a variable, `path`, containing the path to the `baseball.db` contained in `resources/`\n",
    "path = 'data/baseball.db'\n",
    "\n",
    "# Create a connection, `con`, that is connected to database at `path`\n",
    "baseball_connection = sq3.Connection(path)\n",
    "\n",
    "# Query to list all tables in baseball.db\n",
    "query = \"SELECT name FROM sqlite_master WHERE type='table'\"\n",
    "tables = pd.read_sql(query, baseball_connection)\n",
    "print(\"Tables in baseball.db:\\n\", tables)"
   ]
  },
  {
   "cell_type": "code",
   "execution_count": 14,
   "metadata": {},
   "outputs": [
    {
     "name": "stdout",
     "output_type": "stream",
     "text": [
      "Schema of the allstarfull table:\n",
      "    cid         name     type  notnull dflt_value  pk\n",
      "0    0        index  INTEGER        0       None   0\n",
      "1    1     playerID     TEXT        0       None   0\n",
      "2    2       yearID  INTEGER        0       None   0\n",
      "3    3      gameNum  INTEGER        0       None   0\n",
      "4    4       gameID     TEXT        0       None   0\n",
      "5    5       teamID     TEXT        0       None   0\n",
      "6    6         lgID     TEXT        0       None   0\n",
      "7    7           GP     REAL        0       None   0\n",
      "8    8  startingPos     REAL        0       None   0\n"
     ]
    }
   ],
   "source": [
    "# Query to get the schema of the allstar table\n",
    "query = \"PRAGMA table_info(allstarfull)\"\n",
    "schema = pd.read_sql(query, baseball_connection)\n",
    "print(\"Schema of the allstarfull table:\\n\", schema)"
   ]
  },
  {
   "cell_type": "code",
   "execution_count": 17,
   "metadata": {},
   "outputs": [
    {
     "name": "stdout",
     "output_type": "stream",
     "text": [
      "Metadata for the allstarfull table:\n",
      "     type         name     tbl_name  rootpage  \\\n",
      "0  table  allstarfull  allstarfull         2   \n",
      "\n",
      "                                                 sql  \n",
      "0  CREATE TABLE \"allstarfull\" (\\n\"index\" INTEGER,...  \n"
     ]
    }
   ],
   "source": [
    "# Retrieve metadata about the allstarfull table\n",
    "query = \"SELECT * FROM sqlite_master WHERE type='table' AND name='allstarfull'\"\n",
    "metadata = pd.read_sql(query, baseball_connection)\n",
    "print(\"Metadata for the allstarfull table:\\n\", metadata)"
   ]
  },
  {
   "cell_type": "markdown",
   "metadata": {},
   "source": [
    "### Advanced Query: Player Performance Analysis"
   ]
  },
  {
   "cell_type": "code",
   "execution_count": 18,
   "metadata": {},
   "outputs": [
    {
     "name": "stdout",
     "output_type": "stream",
     "text": [
      "Top 3 players by games played:\n",
      "     playerID  Total_Games_Played  Avg_Start_Position\n",
      "0  musiast01                24.0            6.357143\n",
      "1   mayswi01                24.0            8.000000\n",
      "2  aaronha01                24.0            8.470588\n"
     ]
    }
   ],
   "source": [
    "# Query to find top 3 players by games played\n",
    "query = \"\"\"\n",
    "SELECT\n",
    "    playerID,\n",
    "    SUM(GP) AS Total_Games_Played,\n",
    "    AVG(startingPos) AS Avg_Start_Position\n",
    "FROM\n",
    "    allstarfull\n",
    "GROUP BY\n",
    "    playerID\n",
    "ORDER BY\n",
    "    Total_Games_Played DESC,\n",
    "    Avg_Start_Position ASC\n",
    "LIMIT 3\n",
    "\"\"\"\n",
    "top_players = pd.read_sql(query, baseball_connection)\n",
    "print(\"Top 3 players by games played:\\n\", top_players)"
   ]
  }
 ],
 "metadata": {
  "kernelspec": {
   "display_name": "python_course",
   "language": "python",
   "name": "python3"
  },
  "language_info": {
   "codemirror_mode": {
    "name": "ipython",
    "version": 3
   },
   "file_extension": ".py",
   "mimetype": "text/x-python",
   "name": "python",
   "nbconvert_exporter": "python",
   "pygments_lexer": "ipython3",
   "version": "3.11.9"
  }
 },
 "nbformat": 4,
 "nbformat_minor": 4
}
